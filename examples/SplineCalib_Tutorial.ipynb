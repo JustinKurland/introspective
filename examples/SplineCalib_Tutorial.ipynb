{
 "cells": [
  {
   "cell_type": "markdown",
   "metadata": {},
   "source": [
    "## Probability Calibration with SplineCalib\n",
    "\n",
    "\n",
    "This workbook demonstrates the SplineCalib algorithm detailed in the paper\n",
    "\"Spline-Based Probability Calibration\" https://arxiv.org/abs/1809.07751\n",
    "\n",
    "We build a random forest model and demonstrate that using the vote percentage as a probability is not well-calibrated.  We then show different approaches on how to use SplineCalib to appropriately calibrate the model.\n",
    "\n",
    "We also show how to serialize the calibration object to be able to save it on disk and re-use it."
   ]
  },
  {
   "cell_type": "markdown",
   "metadata": {},
   "source": [
    "### MIMIC ICU Data*\n",
    "\n",
    "We illustrate this process using a mortality model on the MIMIC ICU data\n",
    "\n",
    "*MIMIC-III, a freely accessible critical care database. Johnson AEW, Pollard TJ, Shen L, Lehman L, Feng M, Ghassemi M, Moody B, Szolovits P, Celi LA, and Mark RG. Scientific Data (2016).\n",
    "https://mimic.physionet.org"
   ]
  },
  {
   "cell_type": "code",
   "execution_count": 1,
   "metadata": {
    "collapsed": false,
    "jupyter": {
     "outputs_hidden": false
    }
   },
   "outputs": [],
   "source": [
    "# \"pip install ml_insights\" in terminal if needed\n",
    "\n",
    "import pandas as pd\n",
    "import numpy as np\n",
    "import matplotlib.pyplot as plt\n",
    "import ml_insights as mli\n",
    "%matplotlib inline\n",
    "\n",
    "from sklearn.ensemble import RandomForestClassifier\n",
    "from sklearn.model_selection import train_test_split\n",
    "from sklearn.metrics import log_loss, brier_score_loss, roc_auc_score\n"
   ]
  },
  {
   "cell_type": "markdown",
   "metadata": {},
   "source": [
    "In the next few cells, we load in some data, inspect it, select columns for our features and outcome (mortality) and fill in missing values with the median of that column."
   ]
  },
  {
   "cell_type": "code",
   "execution_count": 2,
   "metadata": {
    "collapsed": false,
    "jupyter": {
     "outputs_hidden": false
    }
   },
   "outputs": [
    {
     "data": {
      "text/html": [
       "<div>\n",
       "<style scoped>\n",
       "    .dataframe tbody tr th:only-of-type {\n",
       "        vertical-align: middle;\n",
       "    }\n",
       "\n",
       "    .dataframe tbody tr th {\n",
       "        vertical-align: top;\n",
       "    }\n",
       "\n",
       "    .dataframe thead th {\n",
       "        text-align: right;\n",
       "    }\n",
       "</style>\n",
       "<table border=\"1\" class=\"dataframe\">\n",
       "  <thead>\n",
       "    <tr style=\"text-align: right;\">\n",
       "      <th></th>\n",
       "      <th>subject_id</th>\n",
       "      <th>hadm_id</th>\n",
       "      <th>icustay_id</th>\n",
       "      <th>aniongap_min</th>\n",
       "      <th>aniongap_max</th>\n",
       "      <th>albumin_min</th>\n",
       "      <th>albumin_max</th>\n",
       "      <th>bicarbonate_min</th>\n",
       "      <th>bicarbonate_max</th>\n",
       "      <th>bilirubin_min</th>\n",
       "      <th>...</th>\n",
       "      <th>meanbp_mean</th>\n",
       "      <th>resprate_min</th>\n",
       "      <th>resprate_max</th>\n",
       "      <th>resprate_mean</th>\n",
       "      <th>tempc_min</th>\n",
       "      <th>tempc_max</th>\n",
       "      <th>tempc_mean</th>\n",
       "      <th>spo2_min</th>\n",
       "      <th>spo2_max</th>\n",
       "      <th>spo2_mean</th>\n",
       "    </tr>\n",
       "  </thead>\n",
       "  <tbody>\n",
       "    <tr>\n",
       "      <th>0</th>\n",
       "      <td>9</td>\n",
       "      <td>150750</td>\n",
       "      <td>220597</td>\n",
       "      <td>13.0</td>\n",
       "      <td>13.0</td>\n",
       "      <td>NaN</td>\n",
       "      <td>NaN</td>\n",
       "      <td>26.0</td>\n",
       "      <td>30.0</td>\n",
       "      <td>0.4</td>\n",
       "      <td>...</td>\n",
       "      <td>98.850000</td>\n",
       "      <td>14.0</td>\n",
       "      <td>19.0</td>\n",
       "      <td>14.369565</td>\n",
       "      <td>35.500001</td>\n",
       "      <td>37.888887</td>\n",
       "      <td>37.049383</td>\n",
       "      <td>95.0</td>\n",
       "      <td>100.0</td>\n",
       "      <td>97.650000</td>\n",
       "    </tr>\n",
       "    <tr>\n",
       "      <th>1</th>\n",
       "      <td>13</td>\n",
       "      <td>143045</td>\n",
       "      <td>263738</td>\n",
       "      <td>10.0</td>\n",
       "      <td>14.0</td>\n",
       "      <td>3.9</td>\n",
       "      <td>3.9</td>\n",
       "      <td>23.0</td>\n",
       "      <td>24.0</td>\n",
       "      <td>0.4</td>\n",
       "      <td>...</td>\n",
       "      <td>93.772727</td>\n",
       "      <td>11.0</td>\n",
       "      <td>25.0</td>\n",
       "      <td>15.320000</td>\n",
       "      <td>35.944443</td>\n",
       "      <td>37.400002</td>\n",
       "      <td>36.653534</td>\n",
       "      <td>94.0</td>\n",
       "      <td>100.0</td>\n",
       "      <td>97.700000</td>\n",
       "    </tr>\n",
       "    <tr>\n",
       "      <th>2</th>\n",
       "      <td>20</td>\n",
       "      <td>157681</td>\n",
       "      <td>264490</td>\n",
       "      <td>12.0</td>\n",
       "      <td>12.0</td>\n",
       "      <td>NaN</td>\n",
       "      <td>NaN</td>\n",
       "      <td>21.0</td>\n",
       "      <td>21.0</td>\n",
       "      <td>NaN</td>\n",
       "      <td>...</td>\n",
       "      <td>75.058333</td>\n",
       "      <td>10.0</td>\n",
       "      <td>27.0</td>\n",
       "      <td>15.404762</td>\n",
       "      <td>35.900002</td>\n",
       "      <td>37.299999</td>\n",
       "      <td>36.545714</td>\n",
       "      <td>95.0</td>\n",
       "      <td>100.0</td>\n",
       "      <td>98.435897</td>\n",
       "    </tr>\n",
       "    <tr>\n",
       "      <th>3</th>\n",
       "      <td>28</td>\n",
       "      <td>162569</td>\n",
       "      <td>225559</td>\n",
       "      <td>13.0</td>\n",
       "      <td>13.0</td>\n",
       "      <td>NaN</td>\n",
       "      <td>NaN</td>\n",
       "      <td>23.0</td>\n",
       "      <td>23.0</td>\n",
       "      <td>NaN</td>\n",
       "      <td>...</td>\n",
       "      <td>69.133333</td>\n",
       "      <td>9.0</td>\n",
       "      <td>32.0</td>\n",
       "      <td>16.677419</td>\n",
       "      <td>35.900002</td>\n",
       "      <td>37.700001</td>\n",
       "      <td>37.033333</td>\n",
       "      <td>92.0</td>\n",
       "      <td>100.0</td>\n",
       "      <td>96.419355</td>\n",
       "    </tr>\n",
       "    <tr>\n",
       "      <th>4</th>\n",
       "      <td>37</td>\n",
       "      <td>188670</td>\n",
       "      <td>213503</td>\n",
       "      <td>9.0</td>\n",
       "      <td>10.0</td>\n",
       "      <td>NaN</td>\n",
       "      <td>NaN</td>\n",
       "      <td>33.0</td>\n",
       "      <td>35.0</td>\n",
       "      <td>NaN</td>\n",
       "      <td>...</td>\n",
       "      <td>73.297610</td>\n",
       "      <td>15.0</td>\n",
       "      <td>30.0</td>\n",
       "      <td>22.241379</td>\n",
       "      <td>36.833335</td>\n",
       "      <td>38.055556</td>\n",
       "      <td>37.333334</td>\n",
       "      <td>89.0</td>\n",
       "      <td>99.0</td>\n",
       "      <td>96.533333</td>\n",
       "    </tr>\n",
       "    <tr>\n",
       "      <th>5</th>\n",
       "      <td>71</td>\n",
       "      <td>111944</td>\n",
       "      <td>211832</td>\n",
       "      <td>13.0</td>\n",
       "      <td>30.0</td>\n",
       "      <td>3.6</td>\n",
       "      <td>4.7</td>\n",
       "      <td>17.0</td>\n",
       "      <td>26.0</td>\n",
       "      <td>0.4</td>\n",
       "      <td>...</td>\n",
       "      <td>79.222208</td>\n",
       "      <td>13.0</td>\n",
       "      <td>25.0</td>\n",
       "      <td>17.130435</td>\n",
       "      <td>35.722224</td>\n",
       "      <td>37.833332</td>\n",
       "      <td>37.351852</td>\n",
       "      <td>99.0</td>\n",
       "      <td>100.0</td>\n",
       "      <td>99.862069</td>\n",
       "    </tr>\n",
       "    <tr>\n",
       "      <th>6</th>\n",
       "      <td>72</td>\n",
       "      <td>156857</td>\n",
       "      <td>239612</td>\n",
       "      <td>18.0</td>\n",
       "      <td>18.0</td>\n",
       "      <td>NaN</td>\n",
       "      <td>NaN</td>\n",
       "      <td>20.0</td>\n",
       "      <td>20.0</td>\n",
       "      <td>3.5</td>\n",
       "      <td>...</td>\n",
       "      <td>NaN</td>\n",
       "      <td>NaN</td>\n",
       "      <td>NaN</td>\n",
       "      <td>NaN</td>\n",
       "      <td>NaN</td>\n",
       "      <td>NaN</td>\n",
       "      <td>NaN</td>\n",
       "      <td>NaN</td>\n",
       "      <td>NaN</td>\n",
       "      <td>NaN</td>\n",
       "    </tr>\n",
       "    <tr>\n",
       "      <th>7</th>\n",
       "      <td>78</td>\n",
       "      <td>100536</td>\n",
       "      <td>233150</td>\n",
       "      <td>9.0</td>\n",
       "      <td>9.0</td>\n",
       "      <td>2.7</td>\n",
       "      <td>3.1</td>\n",
       "      <td>26.0</td>\n",
       "      <td>26.0</td>\n",
       "      <td>0.8</td>\n",
       "      <td>...</td>\n",
       "      <td>121.129705</td>\n",
       "      <td>11.0</td>\n",
       "      <td>24.0</td>\n",
       "      <td>16.764706</td>\n",
       "      <td>36.333334</td>\n",
       "      <td>36.833335</td>\n",
       "      <td>36.577778</td>\n",
       "      <td>96.0</td>\n",
       "      <td>100.0</td>\n",
       "      <td>98.470588</td>\n",
       "    </tr>\n",
       "    <tr>\n",
       "      <th>8</th>\n",
       "      <td>88</td>\n",
       "      <td>123010</td>\n",
       "      <td>297289</td>\n",
       "      <td>13.0</td>\n",
       "      <td>18.0</td>\n",
       "      <td>NaN</td>\n",
       "      <td>NaN</td>\n",
       "      <td>19.0</td>\n",
       "      <td>26.0</td>\n",
       "      <td>NaN</td>\n",
       "      <td>...</td>\n",
       "      <td>91.884615</td>\n",
       "      <td>9.0</td>\n",
       "      <td>45.0</td>\n",
       "      <td>20.352941</td>\n",
       "      <td>35.722224</td>\n",
       "      <td>39.111112</td>\n",
       "      <td>37.810185</td>\n",
       "      <td>99.0</td>\n",
       "      <td>100.0</td>\n",
       "      <td>99.962963</td>\n",
       "    </tr>\n",
       "    <tr>\n",
       "      <th>9</th>\n",
       "      <td>95</td>\n",
       "      <td>160891</td>\n",
       "      <td>216431</td>\n",
       "      <td>13.0</td>\n",
       "      <td>17.0</td>\n",
       "      <td>NaN</td>\n",
       "      <td>NaN</td>\n",
       "      <td>23.0</td>\n",
       "      <td>26.0</td>\n",
       "      <td>NaN</td>\n",
       "      <td>...</td>\n",
       "      <td>93.952386</td>\n",
       "      <td>14.0</td>\n",
       "      <td>20.0</td>\n",
       "      <td>16.363636</td>\n",
       "      <td>35.722224</td>\n",
       "      <td>36.666667</td>\n",
       "      <td>36.305556</td>\n",
       "      <td>96.0</td>\n",
       "      <td>100.0</td>\n",
       "      <td>98.071429</td>\n",
       "    </tr>\n",
       "  </tbody>\n",
       "</table>\n",
       "<p>10 rows × 79 columns</p>\n",
       "</div>"
      ],
      "text/plain": [
       "   subject_id  hadm_id  icustay_id  aniongap_min  aniongap_max  albumin_min  \\\n",
       "0           9   150750      220597          13.0          13.0          NaN   \n",
       "1          13   143045      263738          10.0          14.0          3.9   \n",
       "2          20   157681      264490          12.0          12.0          NaN   \n",
       "3          28   162569      225559          13.0          13.0          NaN   \n",
       "4          37   188670      213503           9.0          10.0          NaN   \n",
       "5          71   111944      211832          13.0          30.0          3.6   \n",
       "6          72   156857      239612          18.0          18.0          NaN   \n",
       "7          78   100536      233150           9.0           9.0          2.7   \n",
       "8          88   123010      297289          13.0          18.0          NaN   \n",
       "9          95   160891      216431          13.0          17.0          NaN   \n",
       "\n",
       "   albumin_max  bicarbonate_min  bicarbonate_max  bilirubin_min  ...  \\\n",
       "0          NaN             26.0             30.0            0.4  ...   \n",
       "1          3.9             23.0             24.0            0.4  ...   \n",
       "2          NaN             21.0             21.0            NaN  ...   \n",
       "3          NaN             23.0             23.0            NaN  ...   \n",
       "4          NaN             33.0             35.0            NaN  ...   \n",
       "5          4.7             17.0             26.0            0.4  ...   \n",
       "6          NaN             20.0             20.0            3.5  ...   \n",
       "7          3.1             26.0             26.0            0.8  ...   \n",
       "8          NaN             19.0             26.0            NaN  ...   \n",
       "9          NaN             23.0             26.0            NaN  ...   \n",
       "\n",
       "   meanbp_mean  resprate_min  resprate_max  resprate_mean  tempc_min  \\\n",
       "0    98.850000          14.0          19.0      14.369565  35.500001   \n",
       "1    93.772727          11.0          25.0      15.320000  35.944443   \n",
       "2    75.058333          10.0          27.0      15.404762  35.900002   \n",
       "3    69.133333           9.0          32.0      16.677419  35.900002   \n",
       "4    73.297610          15.0          30.0      22.241379  36.833335   \n",
       "5    79.222208          13.0          25.0      17.130435  35.722224   \n",
       "6          NaN           NaN           NaN            NaN        NaN   \n",
       "7   121.129705          11.0          24.0      16.764706  36.333334   \n",
       "8    91.884615           9.0          45.0      20.352941  35.722224   \n",
       "9    93.952386          14.0          20.0      16.363636  35.722224   \n",
       "\n",
       "   tempc_max  tempc_mean  spo2_min  spo2_max  spo2_mean  \n",
       "0  37.888887   37.049383      95.0     100.0  97.650000  \n",
       "1  37.400002   36.653534      94.0     100.0  97.700000  \n",
       "2  37.299999   36.545714      95.0     100.0  98.435897  \n",
       "3  37.700001   37.033333      92.0     100.0  96.419355  \n",
       "4  38.055556   37.333334      89.0      99.0  96.533333  \n",
       "5  37.833332   37.351852      99.0     100.0  99.862069  \n",
       "6        NaN         NaN       NaN       NaN        NaN  \n",
       "7  36.833335   36.577778      96.0     100.0  98.470588  \n",
       "8  39.111112   37.810185      99.0     100.0  99.962963  \n",
       "9  36.666667   36.305556      96.0     100.0  98.071429  \n",
       "\n",
       "[10 rows x 79 columns]"
      ]
     },
     "execution_count": 2,
     "metadata": {},
     "output_type": "execute_result"
    }
   ],
   "source": [
    "# Load dataset derived from the MMIC database\n",
    "\n",
    "lab_aug_df = pd.read_csv(\"data/lab_vital_icu_table.csv\")\n",
    "lab_aug_df.head(10)"
   ]
  },
  {
   "cell_type": "code",
   "execution_count": 3,
   "metadata": {},
   "outputs": [],
   "source": [
    "# Choose a subset of variables\n",
    "\n",
    "X = lab_aug_df.loc[:,['aniongap_min', 'aniongap_max',\n",
    "       'albumin_min', 'albumin_max', 'bicarbonate_min', 'bicarbonate_max',\n",
    "       'bilirubin_min', 'bilirubin_max', 'creatinine_min', 'creatinine_max',\n",
    "       'chloride_min', 'chloride_max', \n",
    "       'hematocrit_min', 'hematocrit_max', 'hemoglobin_min', 'hemoglobin_max',\n",
    "       'lactate_min', 'lactate_max', 'platelet_min', 'platelet_max',\n",
    "       'potassium_min', 'potassium_max', 'ptt_min', 'ptt_max', 'inr_min',\n",
    "       'inr_max', 'pt_min', 'pt_max', 'sodium_min', 'sodium_max', 'bun_min',\n",
    "       'bun_max', 'wbc_min', 'wbc_max','sysbp_max', 'sysbp_mean', 'diasbp_min', 'diasbp_max', 'diasbp_mean',\n",
    "       'meanbp_min', 'meanbp_max', 'meanbp_mean', 'resprate_min',\n",
    "       'resprate_max', 'resprate_mean', 'tempc_min', 'tempc_max', 'tempc_mean',\n",
    "       'spo2_min', 'spo2_max', 'spo2_mean']]\n",
    "y = lab_aug_df['hospital_expire_flag']"
   ]
  },
  {
   "cell_type": "code",
   "execution_count": 4,
   "metadata": {},
   "outputs": [],
   "source": [
    "# Impute the median for in each column to replace NA's \n",
    "\n",
    "median_vec = [X.iloc[:,i].median() for i in range(len(X.columns))]\n",
    "\n",
    "for i in range(len(X.columns)):\n",
    "    X.iloc[:,i].fillna(median_vec[i],inplace=True)"
   ]
  },
  {
   "cell_type": "markdown",
   "metadata": {},
   "source": [
    "Now we divide the data into training, calibration, and test sets.  The training set will be used to fit the model, the calibration set will be used to calibrate the probabilities, and the test set will be used to evaluate the performance.  We use a 60-20-20 split (achived by first doing 80/20 and then splitting the 80 by 75/25)"
   ]
  },
  {
   "cell_type": "code",
   "execution_count": 5,
   "metadata": {
    "collapsed": false,
    "jupyter": {
     "outputs_hidden": false
    }
   },
   "outputs": [],
   "source": [
    "X_train_calib, X_test, y_train_calib, y_test = train_test_split(X, y, test_size=0.2, random_state=942)"
   ]
  },
  {
   "cell_type": "code",
   "execution_count": 6,
   "metadata": {},
   "outputs": [],
   "source": [
    "X_train, X_calib, y_train, y_calib = train_test_split(X_train_calib, y_train_calib, test_size=0.25, random_state=942)"
   ]
  },
  {
   "cell_type": "code",
   "execution_count": 7,
   "metadata": {},
   "outputs": [
    {
     "data": {
      "text/plain": [
       "((35835, 51), (11945, 51), (11946, 51))"
      ]
     },
     "execution_count": 7,
     "metadata": {},
     "output_type": "execute_result"
    }
   ],
   "source": [
    "X_train.shape, X_calib.shape, X_test.shape"
   ]
  },
  {
   "cell_type": "markdown",
   "metadata": {},
   "source": [
    "Next, we fit a Random Forest model to our training data.  Then we use that model to predict \"probabilities\" on our validation and test sets.  \n",
    "\n",
    "I use quotes on \"probabilities\" because these numbers, which are the percentage of trees that voted \"yes\" are better understood as mere scores.  A higher value should generally indicate a higher probability of mortality.  However, there is no reason to expect these to be well-calibrated probabilities.  The fact that, say, 60% of the trees voted \"yes\" on a particular case does not mean that that case has a 60% probability of mortality.\n",
    "\n",
    "We will demonstrate this empirically later."
   ]
  },
  {
   "cell_type": "code",
   "execution_count": 8,
   "metadata": {
    "collapsed": false,
    "jupyter": {
     "outputs_hidden": false
    }
   },
   "outputs": [
    {
     "data": {
      "text/plain": [
       "RandomForestClassifier(bootstrap=True, class_weight='balanced_subsample',\n",
       "                       criterion='gini', max_depth=None, max_features='auto',\n",
       "                       max_leaf_nodes=None, min_impurity_decrease=0.0,\n",
       "                       min_impurity_split=None, min_samples_leaf=1,\n",
       "                       min_samples_split=2, min_weight_fraction_leaf=0.0,\n",
       "                       n_estimators=500, n_jobs=-1, oob_score=False,\n",
       "                       random_state=942, verbose=0, warm_start=False)"
      ]
     },
     "execution_count": 8,
     "metadata": {},
     "output_type": "execute_result"
    }
   ],
   "source": [
    "rfmodel1 = RandomForestClassifier(n_estimators = 500, class_weight='balanced_subsample', random_state=942, n_jobs=-1 )\n",
    "rfmodel1.fit(X_train,y_train)"
   ]
  },
  {
   "cell_type": "code",
   "execution_count": 9,
   "metadata": {},
   "outputs": [],
   "source": [
    "preds_test_uncalib = rfmodel1.predict_proba(X_test)[:,1]"
   ]
  },
  {
   "cell_type": "code",
   "execution_count": 10,
   "metadata": {},
   "outputs": [
    {
     "data": {
      "text/plain": [
       "array([0.03 , 0.264, 0.002, 0.138, 0.076, 0.02 , 0.098, 0.026, 0.088,\n",
       "       0.03 ])"
      ]
     },
     "execution_count": 10,
     "metadata": {},
     "output_type": "execute_result"
    }
   ],
   "source": [
    "preds_test_uncalib[:10]"
   ]
  },
  {
   "cell_type": "code",
   "execution_count": null,
   "metadata": {},
   "outputs": [],
   "source": []
  },
  {
   "cell_type": "code",
   "execution_count": 11,
   "metadata": {},
   "outputs": [
    {
     "data": {
      "text/plain": [
       "(0.8594278459278996, 0.8594278459278996)"
      ]
     },
     "execution_count": 11,
     "metadata": {},
     "output_type": "execute_result"
    }
   ],
   "source": [
    "roc_auc_score(y_test, preds_test_uncalib), roc_auc_score(y_test, .1*preds_test_uncalib)"
   ]
  },
  {
   "cell_type": "markdown",
   "metadata": {},
   "source": [
    "## Model Evaluation\n",
    "You are pretty happy with this model since it has an AUROC of .859.  But someone asks you if the probability is well-calibrated.  In other words, if we looked at all the time your model predicted a mortality probability of 40%, did around 40% of them actually die?  Or was it 20%, or 80%?  It turns our that AUROC just measures the *ranking* of cases and does not evaluate if the probabilities are meaningful.  In fact, if you multiply all of your predicted probabilities by .1, you would still get the same AUROC."
   ]
  },
  {
   "cell_type": "markdown",
   "metadata": {},
   "source": [
    "## Checking Calibration\n",
    "How do we know if a model is well-calibrated?  One way to check is to create a \"Reliability Diagram\".  The idea behind the reliability diagram is the following:\n",
    "- Bin the interval [0,1] into smaller subsets (e.g. [0, 0.05], [0.05, .1], ... [.95,1])\n",
    "- Find the empirical probabilities when the probabilities fell into each bin  (if there were 20 times, and 9 of them were \"yes\", the empirical probability is .45)\n",
    "- Plot the predicted probability (average of predicted probabilities in each bin) (x-axis) vs the empirical probabilities(y-axis)\n",
    "- put error bars based on the size of the bin\n",
    "- When the dots are (significantly) above the line y=x, the model is under-predicting the true probability, if below the line, model is over-predicting the true probability."
   ]
  },
  {
   "cell_type": "code",
   "execution_count": 12,
   "metadata": {},
   "outputs": [
    {
     "data": {
      "text/plain": [
       "(array([0.01861123, 0.07227181, 0.12277373, 0.17188113, 0.22222058,\n",
       "        0.27283966, 0.32543118, 0.37303394, 0.42274797, 0.47114629,\n",
       "        0.52441667, 0.57909123, 0.62548387, 0.67436364, 0.71878232,\n",
       "        0.78066667, 0.81781818, 0.86266667, 0.92428571]),\n",
       " array([0.01173479, 0.05521706, 0.11971412, 0.20971302, 0.26256983,\n",
       "        0.29813665, 0.42523364, 0.49350649, 0.51219512, 0.68571429,\n",
       "        0.625     , 0.76666667, 0.83870968, 0.81818182, 0.94444444,\n",
       "        1.        , 0.90909091, 0.88888889, 1.        ]),\n",
       " array([5113., 2626., 1679.,  906.,  537.,  322.,  214.,  154.,  123.,\n",
       "          70.,   48.,   30.,   31.,   33.,   18.,   15.,   11.,    9.,\n",
       "           7.]))"
      ]
     },
     "execution_count": 12,
     "metadata": {},
     "output_type": "execute_result"
    },
    {
     "data": {
      "image/png": "[encoded data removed]",
      "text/plain": [
       "<Figure size 432x288 with 1 Axes>"
      ]
     },
     "metadata": {
      "needs_background": "light"
     },
     "output_type": "display_data"
    }
   ],
   "source": [
    "mli.plot_reliability_diagram(y_test, preds_test_uncalib, marker='.')"
   ]
  },
  {
   "cell_type": "markdown",
   "metadata": {},
   "source": [
    "Above, we see that the model is largely under-predicting the probability of mortality in the range .35 to .85.  For example, when the model predicts a probability of between .6 and .65, more than 80% of those patients died.  And the error bars indicate that this is not likely due to random error.  In other words, our model is poorly calibrated."
   ]
  },
  {
   "cell_type": "markdown",
   "metadata": {},
   "source": [
    "## Calibrating a Model\n",
    "Since our current model is not well-calibrated, we would like to fix this.  We want that when our model says 60% chance of mortality, it means 60% and not 40% or 80%.  We will discuss two ways to fix this:\n",
    "\n",
    "- Use an independent calibration set\n",
    "- Using Cross-validation to generate scores from the training set.\n",
    "\n",
    "The first method is simpler, but requires a separate data set, meaning that you will have less data to train your model with.  It is good to use if you have plenty of data.  It is also a useful approach if you think your distribution has \"shifted\" but the underlying signal in the model is fundamentally unchanged.  In some cases it may make sense to \"re-calibrate\" a model on the \"current\" population without doing a full re-training.\n",
    "\n",
    "The second approach takes more time, but is generally more data-efficient.  We generate a set of cross-validated predictions on the training data.  These predictions come from models that are close to, but not exactly identical to, your original model.  However, this small disrepancy is usually minor and the calibration approach works well.  For details, see the \"Spline-Based Probability Calibration\" paper referenced above."
   ]
  },
  {
   "cell_type": "markdown",
   "metadata": {},
   "source": [
    "## Approach 1: Independent validation set\n",
    "First let us demostrate how we would fix this using the independent validation set."
   ]
  },
  {
   "cell_type": "markdown",
   "metadata": {},
   "source": [
    "## SplineCalib object\n",
    "The SplineCalib object is similar in spirit to preprocessors / data transformations in scikit-learn.  The two main operations are `fit` and `calibrate` (akin to `fit` and `transform` in sklearn).\n",
    "\n",
    "To fit a calibration object, we give it a set of uncalibrated predictions from a model, and the corresponding truth set.  The `fit` routine will learn the spline curve that best maps the uncalibrated scores to actual probabilities."
   ]
  },
  {
   "cell_type": "code",
   "execution_count": 13,
   "metadata": {},
   "outputs": [],
   "source": [
    "# Define SplineCalib object\n",
    "\n",
    "calib1 = mli.SplineCalib()"
   ]
  },
  {
   "cell_type": "code",
   "execution_count": 14,
   "metadata": {},
   "outputs": [],
   "source": [
    "# Use the model to make predictions on the calibration set\n",
    "preds_cset = rfmodel1.predict_proba(X_calib)[:,1]"
   ]
  },
  {
   "cell_type": "code",
   "execution_count": 15,
   "metadata": {},
   "outputs": [],
   "source": [
    "# Fit the calibration object on the calibration set\n",
    "calib1.fit(preds_cset, y_calib)"
   ]
  },
  {
   "cell_type": "code",
   "execution_count": 16,
   "metadata": {},
   "outputs": [
    {
     "data": {
      "image/png": "[encoded data removed]",
      "text/plain": [
       "<Figure size 432x288 with 1 Axes>"
      ]
     },
     "metadata": {
      "needs_background": "light"
     },
     "output_type": "display_data"
    }
   ],
   "source": [
    "# Visually inspect the quality of the calibration on the calibration set\n",
    "\n",
    "mli.plot_reliability_diagram(y_calib, preds_cset);\n",
    "calib1.show_calibration_curve()"
   ]
  },
  {
   "cell_type": "code",
   "execution_count": 17,
   "metadata": {},
   "outputs": [
    {
     "data": {
      "image/png": "[encoded data removed]",
      "text/plain": [
       "<Figure size 432x288 with 1 Axes>"
      ]
     },
     "metadata": {
      "needs_background": "light"
     },
     "output_type": "display_data"
    }
   ],
   "source": [
    "# Visually inspect the quality of the calibration on the test set\n",
    "\n",
    "calib1.show_calibration_curve()\n",
    "mli.plot_reliability_diagram(y_test, preds_test_uncalib);"
   ]
  },
  {
   "cell_type": "code",
   "execution_count": 18,
   "metadata": {},
   "outputs": [
    {
     "data": {
      "image/png": "[encoded data removed]",
      "text/plain": [
       "<Figure size 432x288 with 1 Axes>"
      ]
     },
     "metadata": {
      "needs_background": "light"
     },
     "output_type": "display_data"
    }
   ],
   "source": [
    "calib1.show_spline_reg_plot()"
   ]
  },
  {
   "cell_type": "code",
   "execution_count": 19,
   "metadata": {},
   "outputs": [],
   "source": [
    "# Calibrate the previously generated predictions from the model on the test set\n",
    "preds_test_calib1 = calib1.calibrate(preds_test_uncalib)"
   ]
  },
  {
   "cell_type": "code",
   "execution_count": 20,
   "metadata": {},
   "outputs": [
    {
     "data": {
      "image/png": "[encoded data removed]",
      "text/plain": [
       "<Figure size 432x288 with 1 Axes>"
      ]
     },
     "metadata": {
      "needs_background": "light"
     },
     "output_type": "display_data"
    }
   ],
   "source": [
    "# Visually inspect the calibration of the newly calibrated predictions\n",
    "mli.plot_reliability_diagram(y_test, preds_test_calib1);"
   ]
  },
  {
   "cell_type": "code",
   "execution_count": 21,
   "metadata": {},
   "outputs": [
    {
     "data": {
      "text/plain": [
       "(0.2525331316238236, 0.24484468382051103)"
      ]
     },
     "execution_count": 21,
     "metadata": {},
     "output_type": "execute_result"
    }
   ],
   "source": [
    "## Compare the log_loss values\n",
    "log_loss(y_test, preds_test_uncalib),log_loss(y_test, preds_test_calib1)"
   ]
  },
  {
   "cell_type": "markdown",
   "metadata": {},
   "source": [
    "From the above, we see that not only do our reliability diagrams look better, but our log_loss values have substantially improved.  Log_loss measures not only the *discriminative* power of the model but also how well-calibrated it is."
   ]
  },
  {
   "cell_type": "code",
   "execution_count": null,
   "metadata": {},
   "outputs": [],
   "source": []
  },
  {
   "cell_type": "markdown",
   "metadata": {},
   "source": [
    "## Approach 2: Cross-validation on the training data\n",
    "The reason to use an independent calibration set (rather than just the training data) is that how the model performs on the training data (that it has already seen) is not indicative of how it will behave on data it has not seen before.  We want the calibration to correct how the model will behave on \"new\" data, not the training data.\n",
    "\n",
    "Another approach is to take a cross-validation approach to generating calibration data.  We divide the training data into k \"folds\", leave one fold out, train our model (i.e. the choice of model and hyperparameter settings) on the remaining k-1 folds, and then make predictions on the left-out fold.  After doing this process k times, each time leaving out a different fold, we will have a set of predictions, each of which was generated by 1 of k slightly different models, but was always generated by a model that did not see that training point.  Done properly (assuming no \"leakage\" across the folds), this set of predictions and answers will serve as an appropriate calibration set.\n",
    "\n",
    "ML-Insights (the package containing SplineCalib, as well as other functionality) has a simple function to generate these cross-validated predictions.  We demonstrate it below."
   ]
  },
  {
   "cell_type": "code",
   "execution_count": 22,
   "metadata": {},
   "outputs": [],
   "source": [
    "# Get the cross validated predictions given a model and training data.\n",
    "cv_preds_train = mli.cv_predictions(rfmodel1, X_train, y_train, clone_model=True)"
   ]
  },
  {
   "cell_type": "code",
   "execution_count": 23,
   "metadata": {
    "collapsed": false,
    "jupyter": {
     "outputs_hidden": false
    }
   },
   "outputs": [],
   "source": [
    "calib2 = mli.SplineCalib()\n",
    "calib2.fit(cv_preds_train, y_train)"
   ]
  },
  {
   "cell_type": "code",
   "execution_count": 24,
   "metadata": {
    "collapsed": false,
    "jupyter": {
     "outputs_hidden": false
    }
   },
   "outputs": [
    {
     "data": {
      "image/png": "[encoded data removed]",
      "text/plain": [
       "<Figure size 432x288 with 1 Axes>"
      ]
     },
     "metadata": {
      "needs_background": "light"
     },
     "output_type": "display_data"
    }
   ],
   "source": [
    "# Show the reliability diagram for the cross-validated predictions, and the calibration curve\n",
    "calib2.show_calibration_curve()\n",
    "mli.plot_reliability_diagram(y_train, cv_preds_train[:,1]);"
   ]
  },
  {
   "cell_type": "code",
   "execution_count": null,
   "metadata": {
    "collapsed": false,
    "jupyter": {
     "outputs_hidden": false
    }
   },
   "outputs": [],
   "source": []
  },
  {
   "cell_type": "code",
   "execution_count": 25,
   "metadata": {
    "collapsed": false,
    "jupyter": {
     "outputs_hidden": false
    }
   },
   "outputs": [
    {
     "data": {
      "image/png": "[encoded data removed]",
      "text/plain": [
       "<Figure size 432x288 with 1 Axes>"
      ]
     },
     "metadata": {
      "needs_background": "light"
     },
     "output_type": "display_data"
    }
   ],
   "source": [
    "mli.plot_reliability_diagram(y_test, calib2.calibrate(preds_test_uncalib));"
   ]
  },
  {
   "cell_type": "code",
   "execution_count": 26,
   "metadata": {
    "collapsed": false,
    "jupyter": {
     "outputs_hidden": false
    }
   },
   "outputs": [
    {
     "data": {
      "text/plain": [
       "(0.2525331316238236, 0.2443861652805244)"
      ]
     },
     "execution_count": 26,
     "metadata": {},
     "output_type": "execute_result"
    }
   ],
   "source": [
    "preds_test_calib2 = calib2.calibrate(preds_test_uncalib)\n",
    "log_loss(y_test, preds_test_uncalib), log_loss(y_test, preds_test_calib2)"
   ]
  },
  {
   "cell_type": "markdown",
   "metadata": {
    "jupyter": {
     "outputs_hidden": false
    }
   },
   "source": [
    "We see above that the cross-validated approach gives similar performance (slightly better in this case).  Additionally, we did not use the 20% of data set aside for calibration at all in the second approach.  We could use approach 2 on the entire training and calibration data and (presumably) get an even better model."
   ]
  },
  {
   "cell_type": "code",
   "execution_count": 27,
   "metadata": {
    "collapsed": false,
    "jupyter": {
     "outputs_hidden": false
    }
   },
   "outputs": [],
   "source": [
    "rfmodel2 = RandomForestClassifier(n_estimators = 500, class_weight='balanced_subsample', random_state=942, n_jobs=-1 )\n",
    "rfmodel2.fit(X_train_calib,y_train_calib)\n",
    "preds_test_2_uncalib = rfmodel2.predict_proba(X_test)[:,1]"
   ]
  },
  {
   "cell_type": "code",
   "execution_count": 28,
   "metadata": {},
   "outputs": [],
   "source": [
    "# Get the cross validated predictions given a model and training data.\n",
    "cv_preds_train_calib = mli.cv_predictions(rfmodel2, X_train_calib, y_train_calib, stratified=True, clone_model=True)"
   ]
  },
  {
   "cell_type": "code",
   "execution_count": 29,
   "metadata": {},
   "outputs": [],
   "source": [
    "calib3 = mli.SplineCalib()\n",
    "calib3.fit(cv_preds_train_calib, y_train_calib)"
   ]
  },
  {
   "cell_type": "code",
   "execution_count": 30,
   "metadata": {},
   "outputs": [
    {
     "data": {
      "image/png": "[encoded data removed]",
      "text/plain": [
       "<Figure size 432x288 with 1 Axes>"
      ]
     },
     "metadata": {
      "needs_background": "light"
     },
     "output_type": "display_data"
    }
   ],
   "source": [
    "# Show the reliability diagram for the cross-validated predictions, and the calibration curve\n",
    "calib3.show_calibration_curve()\n",
    "mli.plot_reliability_diagram(y_train_calib, cv_preds_train_calib[:,1]);"
   ]
  },
  {
   "cell_type": "code",
   "execution_count": 31,
   "metadata": {},
   "outputs": [
    {
     "data": {
      "text/plain": [
       "(0.25110679815106546, 0.24302434886987742)"
      ]
     },
     "execution_count": 31,
     "metadata": {},
     "output_type": "execute_result"
    }
   ],
   "source": [
    "preds_test_calib3 = calib3.calibrate(preds_test_2_uncalib)\n",
    "log_loss(y_test, preds_test_2_uncalib), log_loss(y_test, preds_test_calib3)"
   ]
  },
  {
   "cell_type": "code",
   "execution_count": 32,
   "metadata": {},
   "outputs": [
    {
     "data": {
      "text/plain": [
       "(0.8617756467135349, 0.8617720059711117)"
      ]
     },
     "execution_count": 32,
     "metadata": {},
     "output_type": "execute_result"
    }
   ],
   "source": [
    "roc_auc_score(y_test, preds_test_2_uncalib), roc_auc_score(y_test, preds_test_calib3)"
   ]
  },
  {
   "cell_type": "markdown",
   "metadata": {},
   "source": [
    "Indeed, we get a slightly better AUC and log_loss both before and after calibration, due to having a larger training set for our model to learn from"
   ]
  },
  {
   "cell_type": "code",
   "execution_count": null,
   "metadata": {},
   "outputs": [],
   "source": []
  },
  {
   "cell_type": "markdown",
   "metadata": {},
   "source": [
    "## Serializing Models\n",
    "The SplineCalib object can be saved to disk easily with `joblib.dump()` and reloaded with `joblib.load()`"
   ]
  },
  {
   "cell_type": "code",
   "execution_count": 33,
   "metadata": {
    "collapsed": false,
    "jupyter": {
     "outputs_hidden": false
    }
   },
   "outputs": [
    {
     "data": {
      "text/plain": [
       "['calib3.pkl']"
      ]
     },
     "execution_count": 33,
     "metadata": {},
     "output_type": "execute_result"
    }
   ],
   "source": [
    "import joblib\n",
    "joblib.dump(calib3, 'calib3.pkl')"
   ]
  },
  {
   "cell_type": "code",
   "execution_count": 34,
   "metadata": {
    "collapsed": false,
    "jupyter": {
     "outputs_hidden": false
    }
   },
   "outputs": [],
   "source": [
    "calib3_reloaded=joblib.load('calib3.pkl')"
   ]
  },
  {
   "cell_type": "code",
   "execution_count": 35,
   "metadata": {
    "collapsed": false,
    "jupyter": {
     "outputs_hidden": false
    }
   },
   "outputs": [
    {
     "data": {
      "image/png": "[encoded data removed]",
      "text/plain": [
       "<Figure size 432x288 with 1 Axes>"
      ]
     },
     "metadata": {
      "needs_background": "light"
     },
     "output_type": "display_data"
    }
   ],
   "source": [
    "mli.plot_reliability_diagram(y_test, calib3_reloaded.calibrate(preds_test_2_uncalib));"
   ]
  },
  {
   "cell_type": "code",
   "execution_count": 36,
   "metadata": {
    "collapsed": false,
    "jupyter": {
     "outputs_hidden": false
    }
   },
   "outputs": [
    {
     "data": {
      "image/png": "[encoded data removed]",
      "text/plain": [
       "<Figure size 432x288 with 1 Axes>"
      ]
     },
     "metadata": {
      "needs_background": "light"
     },
     "output_type": "display_data"
    }
   ],
   "source": [
    "calib3_reloaded.show_calibration_curve()"
   ]
  },
  {
   "cell_type": "code",
   "execution_count": 37,
   "metadata": {
    "collapsed": false,
    "jupyter": {
     "outputs_hidden": false
    }
   },
   "outputs": [
    {
     "data": {
      "text/plain": [
       "0.24302434886987742"
      ]
     },
     "execution_count": 37,
     "metadata": {},
     "output_type": "execute_result"
    }
   ],
   "source": [
    "log_loss(y_test, calib3_reloaded.calibrate(preds_test_2_uncalib))"
   ]
  },
  {
   "cell_type": "code",
   "execution_count": null,
   "metadata": {},
   "outputs": [],
   "source": []
  },
  {
   "cell_type": "code",
   "execution_count": null,
   "metadata": {},
   "outputs": [],
   "source": []
  },
  {
   "cell_type": "markdown",
   "metadata": {},
   "source": [
    "## Comparison to Other Calibration Approaches\n",
    "\n",
    "Here we compare SplineCalib to Isotonic Regression, Platt Scaling and Beta Calibration."
   ]
  },
  {
   "cell_type": "code",
   "execution_count": 38,
   "metadata": {},
   "outputs": [],
   "source": [
    "from sklearn.isotonic import IsotonicRegression\n",
    "from sklearn.linear_model import LogisticRegression\n",
    "from betacal import BetaCalibration"
   ]
  },
  {
   "cell_type": "code",
   "execution_count": 39,
   "metadata": {},
   "outputs": [
    {
     "data": {
      "text/plain": [
       "LogisticRegression(C=99999999999, class_weight=None, dual=False,\n",
       "                   fit_intercept=True, intercept_scaling=1, l1_ratio=None,\n",
       "                   max_iter=100, multi_class='warn', n_jobs=None, penalty='l2',\n",
       "                   random_state=None, solver='warn', tol=0.0001, verbose=0,\n",
       "                   warm_start=False)"
      ]
     },
     "execution_count": 39,
     "metadata": {},
     "output_type": "execute_result"
    }
   ],
   "source": [
    "# Fit three-parameter beta calibration\n",
    "bc = BetaCalibration(parameters=\"abm\")\n",
    "bc.fit(cv_preds_train_calib[:,1], y_train_calib)\n",
    "\n",
    "# Fit Isotonic Regression\n",
    "iso = IsotonicRegression()\n",
    "iso.fit(cv_preds_train_calib[:,1], y_train_calib)\n",
    "\n",
    "# Fit Platt scaling (logistic calibration)\n",
    "lr = LogisticRegression(C=99999999999)\n",
    "lr.fit(cv_preds_train_calib[:,1].reshape(-1,1), y_train_calib)\n"
   ]
  },
  {
   "cell_type": "code",
   "execution_count": 40,
   "metadata": {},
   "outputs": [
    {
     "data": {
      "image/png": "[encoded data removed]",
      "text/plain": [
       "<Figure size 432x288 with 1 Axes>"
      ]
     },
     "metadata": {
      "needs_background": "light"
     },
     "output_type": "display_data"
    }
   ],
   "source": [
    "tvec = np.linspace(0,1,1001)\n",
    "bc_probs = bc.predict(tvec)\n",
    "iso_probs = iso.predict(tvec)\n",
    "platt_probs = lr.predict_proba(tvec.reshape(-1,1))[:,1]\n",
    "splinecalib_probs = calib3.calibrate(tvec)\n",
    "#calib3.show_calibration_curve()\n",
    "mli.plot_reliability_diagram(y_train_calib, cv_preds_train_calib[:,1], error_bars=False);\n",
    "plt.plot(tvec, splinecalib_probs, label='SplineCalib')\n",
    "plt.plot(tvec, bc_probs, label='Beta')\n",
    "plt.plot(tvec, iso_probs, label='Isotonic')\n",
    "plt.plot(tvec, platt_probs, label='Platt')\n",
    "plt.legend()\n",
    "plt.title('Calibration Curves for different methods');"
   ]
  },
  {
   "cell_type": "code",
   "execution_count": 41,
   "metadata": {},
   "outputs": [],
   "source": [
    "preds_test_bc = bc.predict(preds_test_2_uncalib)\n",
    "preds_test_iso = iso.predict(preds_test_2_uncalib)\n",
    "preds_test_platt = lr.predict_proba(preds_test_2_uncalib.reshape(-1,1))[:,1]\n",
    "preds_test_splinecalib = calib3.calibrate(preds_test_2_uncalib)\n"
   ]
  },
  {
   "cell_type": "code",
   "execution_count": 42,
   "metadata": {},
   "outputs": [],
   "source": [
    "bc_loss = log_loss(y_test, preds_test_bc)\n",
    "iso_loss = log_loss(y_test, preds_test_iso)\n",
    "platt_loss = log_loss(y_test, preds_test_platt)\n",
    "splinecalib_loss = log_loss(y_test, preds_test_splinecalib)"
   ]
  },
  {
   "cell_type": "code",
   "execution_count": 43,
   "metadata": {},
   "outputs": [
    {
     "name": "stdout",
     "output_type": "stream",
     "text": [
      "Platt loss       = 0.25356\n",
      "Beta Calib loss  = 0.24735\n",
      "Isotonic loss    = 0.24567\n",
      "SplineCalib loss = 0.24302\n"
     ]
    }
   ],
   "source": [
    "print('Platt loss       = {}'.format(np.round(platt_loss,5)))\n",
    "print('Beta Calib loss  = {}'.format(np.round(bc_loss,5)))\n",
    "print('Isotonic loss    = {}'.format(np.round(iso_loss,5)))\n",
    "print('SplineCalib loss = {}'.format(np.round(splinecalib_loss,5)))"
   ]
  },
  {
   "cell_type": "code",
   "execution_count": null,
   "metadata": {},
   "outputs": [],
   "source": []
  },
  {
   "cell_type": "code",
   "execution_count": null,
   "metadata": {},
   "outputs": [],
   "source": []
  }
 ],
 "metadata": {
  "anaconda-cloud": {},
  "kernelspec": {
   "display_name": "Python 3",
   "language": "python",
   "name": "python3"
  },
  "language_info": {
   "codemirror_mode": {
    "name": "ipython",
    "version": 3
   },
   "file_extension": ".py",
   "mimetype": "text/x-python",
   "name": "python",
   "nbconvert_exporter": "python",
   "pygments_lexer": "ipython3",
   "version": "3.7.3"
  }
 },
 "nbformat": 4,
 "nbformat_minor": 4
}
